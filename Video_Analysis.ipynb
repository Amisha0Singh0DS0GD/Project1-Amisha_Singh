{
  "cells": [
    {
      "cell_type": "markdown",
      "metadata": {
        "id": "tfCYTlH7qLZH"
      },
      "source": [
        "### **Step 1: Importing necesaary libraries**"
      ]
    },
    {
      "cell_type": "code",
      "execution_count": null,
      "metadata": {
        "id": "7sR5fbK0mjwJ"
      },
      "outputs": [],
      "source": [
        "import os\n",
        "import re\n",
        "import ast\n",
        "import difflib\n",
        "import pandas as pd\n",
        "from collections import Counter"
      ]
    },
    {
      "cell_type": "markdown",
      "metadata": {
        "id": "6XsxGaxuqnFT"
      },
      "source": [
        "### **Step 2: Load Extracted Code Files**"
      ]
    },
    {
      "cell_type": "code",
      "execution_count": null,
      "metadata": {
        "id": "MJx9uXArqh67"
      },
      "outputs": [],
      "source": [
        "final_code_path = \"final_clean_code.py\"\n",
        "framewise_code_path = \"extracted_code.txt\"\n",
        "\n",
        "def load_file(filepath):\n",
        "    \"\"\"Reads a file and returns its content.\"\"\"\n",
        "    with open(filepath, \"r\") as f:\n",
        "        return f.read()\n",
        "\n",
        "final_code = load_file(final_code_path)\n",
        "framewise_code = load_file(framewise_code_path)"
      ]
    },
    {
      "cell_type": "markdown",
      "metadata": {
        "id": "FmK35Q14rIFX"
      },
      "source": [
        "### **Step 3: Analyzing Code Complexity**"
      ]
    },
    {
      "cell_type": "code",
      "execution_count": null,
      "metadata": {
        "id": "gGMR5KOIq665"
      },
      "outputs": [],
      "source": [
        "def analyze_code_complexity(code):\n",
        "    \"\"\"Analyzes Python code to determine its complexity based on AST parsing.\"\"\"\n",
        "    try:\n",
        "        tree = ast.parse(code)\n",
        "        stats = Counter(\n",
        "            node.__class__.__name__ for node in ast.walk(tree)\n",
        "        )\n",
        "        return stats\n",
        "    except SyntaxError:\n",
        "        return {}\n",
        "\n",
        "code_complexity = analyze_code_complexity(final_code)\n",
        "print(\"Code Complexity Analysis:\", code_complexity)"
      ]
    },
    {
      "cell_type": "markdown",
      "metadata": {
        "id": "cpbdN0Sxrkun"
      },
      "source": [
        "### **Step 4: Measuring Keystroke Density & Speed**"
      ]
    },
    {
      "cell_type": "code",
      "execution_count": null,
      "metadata": {
        "id": "pW150re4raHV"
      },
      "outputs": [],
      "source": [
        "def count_keystrokes(framewise_text):\n",
        "    \"\"\"Counts total keystrokes by summing characters in each extracted frame.\"\"\"\n",
        "    return sum(len(line) for line in framewise_text.split(\"\\n\"))\n",
        "\n",
        "total_keystrokes = count_keystrokes(framewise_code)\n",
        "total_frames = framewise_code.count(\"### frame_\")  # Counting extracted frames\n",
        "keystrokes_per_frame = total_keystrokes / max(total_frames, 1)  # Avoid division by zero\n",
        "print(f\"Keystroke Density: {keystrokes_per_frame:.2f} characters per frame\")\n"
      ]
    },
    {
      "cell_type": "markdown",
      "metadata": {
        "id": "13I922zuGPxV"
      },
      "source": [
        "### **Step 5: Identifying Debugging Patterns**"
      ]
    },
    {
      "cell_type": "code",
      "execution_count": null,
      "metadata": {
        "id": "IKjYO42NGGuy"
      },
      "outputs": [],
      "source": [
        "def detect_debugging_patterns(framewise_text):\n",
        "    \"\"\"Identifies occurrences of debugging patterns like print statements and error corrections.\"\"\"\n",
        "    debug_keywords = [\"print\", \"debug\", \"traceback\", \"error\", \"exception\"]\n",
        "    occurrences = sum(framewise_text.lower().count(keyword) for keyword in debug_keywords)\n",
        "    return occurrences\n",
        "\n",
        "debugging_occurrences = detect_debugging_patterns(framewise_code)\n",
        "print(f\"Debugging Actions Count: {debugging_occurrences}\")"
      ]
    },
    {
      "cell_type": "markdown",
      "metadata": {
        "id": "yuRFjP_NGwlT"
      },
      "source": [
        "### **Step 6: Detecting Code Evolution Across Frames**"
      ]
    },
    {
      "cell_type": "code",
      "execution_count": null,
      "metadata": {
        "id": "AuiQPKeCGagN"
      },
      "outputs": [],
      "source": [
        "def detect_code_evolution(framewise_text):\n",
        "    \"\"\"Compares sequential frames to detect how code evolves over time.\"\"\"\n",
        "    frames = re.split(r\"### frame_\\d+\\.jpg ###\", framewise_text)\n",
        "    changes = []\n",
        "    for i in range(len(frames) - 1):\n",
        "        diff = difflib.unified_diff(frames[i].split(\"\\n\"), frames[i+1].split(\"\\n\"))\n",
        "        change_count = sum(1 for line in diff if line.startswith(\"+\") or line.startswith(\"-\"))\n",
        "        changes.append(change_count)\n",
        "    return changes\n",
        "\n",
        "evolution_changes = detect_code_evolution(framewise_code)\n",
        "avg_changes = sum(evolution_changes) / max(len(evolution_changes), 1)\n",
        "print(f\"Average Code Changes per Frame: {avg_changes:.2f}\")"
      ]
    },
    {
      "cell_type": "markdown",
      "metadata": {
        "id": "Zr7aCjoaG-Jb"
      },
      "source": [
        "### **Step 7: Saving Results to CSV**"
      ]
    },
    {
      "cell_type": "code",
      "execution_count": null,
      "metadata": {
        "id": "fPCSwfWFG378"
      },
      "outputs": [],
      "source": [
        "results = {\n",
        "    \"Metric\": [\"Function Usage\", \"Keystroke Density\", \"Debugging Actions\", \"Code Evolution Changes\"],\n",
        "    \"Value\": [code_complexity.get(\"FunctionDef\", 0), keystrokes_per_frame, debugging_occurrences, avg_changes]\n",
        "}\n",
        "pd.DataFrame(results).to_csv(\"analysis_results.csv\", index=False)\n",
        "print(\"Analysis Complete! Results saved to 'analysis_results.csv'\")"
      ]
    }
  ],
  "metadata": {
    "colab": {
      "provenance": []
    },
    "kernelspec": {
      "display_name": "Python 3",
      "name": "python3"
    },
    "language_info": {
      "name": "python"
    }
  },
  "nbformat": 4,
  "nbformat_minor": 0
}
