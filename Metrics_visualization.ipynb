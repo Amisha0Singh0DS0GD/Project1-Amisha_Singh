{
  "nbformat": 4,
  "nbformat_minor": 0,
  "metadata": {
    "colab": {
      "provenance": []
    },
    "kernelspec": {
      "name": "python3",
      "display_name": "Python 3"
    },
    "language_info": {
      "name": "python"
    }
  },
  "cells": [
    {
      "cell_type": "markdown",
      "source": [
        "### **Step 1: Importing necessary libraries**"
      ],
      "metadata": {
        "id": "BpOFSJkLJpYE"
      }
    },
    {
      "cell_type": "code",
      "execution_count": null,
      "metadata": {
        "id": "WDHD1ypuJc6y"
      },
      "outputs": [],
      "source": [
        "import numpy as np\n",
        "import pandas as pd\n",
        "import matplotlib.pyplot as plt\n",
        "import seaborn as sns"
      ]
    },
    {
      "cell_type": "markdown",
      "source": [
        "### **Step 2: Loading  Analysis Results**"
      ],
      "metadata": {
        "id": "SZGf4dLgJ6FA"
      }
    },
    {
      "cell_type": "code",
      "source": [
        "data = pd.read_csv(\"analysis_results.csv\")"
      ],
      "metadata": {
        "id": "gjQVdruQJ0YK"
      },
      "execution_count": null,
      "outputs": []
    },
    {
      "cell_type": "markdown",
      "source": [
        "### **Step 3: Keystroke Density Heatmap**"
      ],
      "metadata": {
        "id": "QaUH1N9dKOw4"
      }
    },
    {
      "cell_type": "code",
      "source": [
        "if \"Keystroke Density\" in data.columns:\n",
        "    plt.figure(figsize=(10, 6))\n",
        "    sns.heatmap(data[[\"Keystroke Density\"]].T, cmap=\"YlGnBu\", cbar=True, xticklabels=5, yticklabels=[\"Keystroke Density\"])\n",
        "    plt.title(\"Keystroke Density Heatmap\")\n",
        "    plt.xlabel(\"Time Intervals\")\n",
        "    plt.ylabel(\"Metrics\")\n",
        "    plt.show()"
      ],
      "metadata": {
        "id": "ZO9-taO3KIIk"
      },
      "execution_count": null,
      "outputs": []
    },
    {
      "cell_type": "markdown",
      "source": [
        "### **Step 4: Bar Plot - Overview of Code Analysis Metrics**"
      ],
      "metadata": {
        "id": "_nTSjebmKa9A"
      }
    },
    {
      "cell_type": "code",
      "source": [
        "plt.figure(figsize=(10, 6))\n",
        "sns.barplot(x=data[\"Metric\"], y=data[\"Value\"], palette=\"coolwarm\")\n",
        "plt.title(\"Code Analysis Metrics Overview\")\n",
        "plt.xlabel(\"Metrics\")\n",
        "plt.ylabel(\"Values\")\n",
        "plt.xticks(rotation=30)\n",
        "plt.show()"
      ],
      "metadata": {
        "id": "dwaSfJg6KUPJ"
      },
      "execution_count": null,
      "outputs": []
    },
    {
      "cell_type": "markdown",
      "source": [
        "### **Step 5: Line Plot - Code Evolution Over Time**"
      ],
      "metadata": {
        "id": "8-I78HM-Kx8N"
      }
    },
    {
      "cell_type": "code",
      "source": [
        "if \"Code Evolution Changes\" in data[\"Metric\"].values:\n",
        "    plt.figure(figsize=(10, 6))\n",
        "    evolution_values = data[data[\"Metric\"] == \"Code Evolution Changes\"][\"Value\"].values\n",
        "    plt.plot(range(len(evolution_values)), evolution_values, marker=\"o\", linestyle=\"-\", color=\"b\")\n",
        "    plt.title(\"Code Evolution Over Frames\")\n",
        "    plt.xlabel(\"Frame Intervals\")\n",
        "    plt.ylabel(\"Changes Detected\")\n",
        "    plt.grid()\n",
        "    plt.show()"
      ],
      "metadata": {
        "id": "swg4uipeKh2N"
      },
      "execution_count": null,
      "outputs": []
    },
    {
      "cell_type": "markdown",
      "source": [
        "### **Step 5: Debugging vs Writing Time - Stacked Bar Plot**"
      ],
      "metadata": {
        "id": "hxBIH39HP5t1"
      }
    },
    {
      "cell_type": "code",
      "source": [
        "if \"Debugging Actions\" in data[\"Metric\"].values and \"Writing Actions\" in data[\"Metric\"].values:\n",
        "    debugging_value = data[data[\"Metric\"] == \"Debugging Actions\"][\"Value\"].values[0]\n",
        "    writing_value = data[data[\"Metric\"] == \"Writing Actions\"][\"Value\"].values[0]\n",
        "\n",
        "    fig, ax = plt.subplots(figsize=(10, 6))\n",
        "    ax.bar([\"Actions\"], writing_value, label=\"Writing Time\", color=\"lightgreen\")\n",
        "    ax.bar([\"Actions\"], debugging_value, label=\"Debugging Time\", color=\"lightcoral\", bottom=writing_value)\n",
        "    plt.legend()\n",
        "    plt.title(\"Debugging vs Writing Time\")\n",
        "    plt.ylabel(\"Time (Seconds)\")\n",
        "    plt.show()\n",
        "\n",
        "\n"
      ],
      "metadata": {
        "id": "C5wwNXtnLJZc"
      },
      "execution_count": null,
      "outputs": []
    },
    {
      "cell_type": "markdown",
      "source": [
        "### **Step 6: Displaying Code Insights**"
      ],
      "metadata": {
        "id": "Synpj-NCQLsD"
      }
    },
    {
      "cell_type": "code",
      "source": [
        "if \"Code Block\" in data.columns and \"Time Spent (s)\" in data.columns:\n",
        "    print(\"\\n Code Insights:\")\n",
        "    print(data[[\"Code Block\", \"Time Spent (s)\", \"Errors\"]])"
      ],
      "metadata": {
        "id": "YTzBkKTuQI-_"
      },
      "execution_count": null,
      "outputs": []
    }
  ]
}