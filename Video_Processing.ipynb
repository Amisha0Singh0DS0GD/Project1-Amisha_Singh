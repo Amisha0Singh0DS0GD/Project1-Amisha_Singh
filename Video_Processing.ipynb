{
  "cells": [
    {
      "cell_type": "markdown",
      "metadata": {
        "id": "nMLOd_MWbbze"
      },
      "source": [
        "**Step 1: Install Dependencies**"
      ]
    },
    {
      "cell_type": "code",
      "execution_count": null,
      "metadata": {
        "id": "vVYHKTVC7aHh"
      },
      "outputs": [],
      "source": [
        "!pip install pytesseract autopep8 ffmpeg-python reportlab\n",
        "!sudo apt install tesseract-ocr"
      ]
    },
    {
      "cell_type": "markdown",
      "metadata": {
        "id": "W5nXi8aqb1Sc"
      },
      "source": [
        "**Step 2: Import Necessary Libraries**"
      ]
    },
    {
      "cell_type": "code",
      "execution_count": null,
      "metadata": {
        "id": "2PlKfFO8bn37"
      },
      "outputs": [],
      "source": [
        "import cv2\n",
        "import pytesseract\n",
        "import numpy as np\n",
        "from PIL import Image\n",
        "from google.colab.patches import cv2_imshow  # For displaying images in Colab\n",
        "import autopep8\n",
        "import os\n",
        "import re\n",
        "import ast\n",
        "import pandas as pd\n",
        "from pylint.lint import Run\n",
        "import tempfile\n",
        "import subprocess"
      ]
    },
    {
      "cell_type": "markdown",
      "metadata": {
        "id": "LNRa857PggZh"
      },
      "source": [
        "**Step 3: Uploading Video File and converting it into necessary format**"
      ]
    },
    {
      "cell_type": "code",
      "execution_count": null,
      "metadata": {
        "id": "ZULchCw9b9pW"
      },
      "outputs": [],
      "source": [
        "from google.colab import files\n",
        "uploaded = files.upload()\n",
        "video_path = list(uploaded.keys())[0]  # Get uploaded file name\n",
        "print(f\"✅ File uploaded: {video_path}\")\n",
        "\n",
        "\n",
        "if video_path.endswith(\".mov\"):\n",
        "    converted_path = \"output.mp4\"\n",
        "    !ffmpeg -i \"$video_path\" -vcodec libx264 \"$converted_path\"\n",
        "    video_path = converted_path\n",
        "    print(f\"Converted {video_path} to MP4 format.\")"
      ]
    },
    {
      "cell_type": "markdown",
      "metadata": {
        "id": "AEHNspXPhInV"
      },
      "source": [
        "**Step 4: Extracting Frames from Video**"
      ]
    },
    {
      "cell_type": "code",
      "execution_count": null,
      "metadata": {
        "id": "DBhvv15Ib_dI"
      },
      "outputs": [],
      "source": [
        "output_dir = \"frames\"\n",
        "os.makedirs(output_dir, exist_ok=True)\n",
        "cap = cv2.VideoCapture(video_path)\n",
        "fps = int(cap.get(cv2.CAP_PROP_FPS)) or 1\n",
        "frame_count = 0\n",
        "saved_frames = 0\n",
        "\n",
        "while cap.isOpened():\n",
        "    ret, frame = cap.read()\n",
        "    if not ret:\n",
        "        break\n",
        "    if frame_count % fps == 0:  # Extract 1 frame per second\n",
        "        frame_path = os.path.join(output_dir, f\"frame_{frame_count}.jpg\")\n",
        "        cv2.imwrite(frame_path, frame)\n",
        "        saved_frames += 1\n",
        "    frame_count += 1\n",
        "\n",
        "cap.release()\n",
        "print(f\"Extracted {saved_frames} frames to '{output_dir}'\")"
      ]
    },
    {
      "cell_type": "markdown",
      "metadata": {
        "id": "Cad8ajMnhfy_"
      },
      "source": [
        "### **Step 5: Preprocessing Frames for better OCR**\n",
        "(converting the frames in gray scale)"
      ]
    },
    {
      "cell_type": "code",
      "execution_count": null,
      "metadata": {
        "id": "aYNvsonJhT9m"
      },
      "outputs": [],
      "source": [
        "processed_dir = \"processed_frames\"\n",
        "os.makedirs(processed_dir, exist_ok=True)\n",
        "\n",
        "for frame in os.listdir(output_dir):\n",
        "    img = cv2.imread(os.path.join(output_dir, frame))\n",
        "    gray = cv2.cvtColor(img, cv2.COLOR_BGR2GRAY)\n",
        "    _, binary = cv2.threshold(gray, 150, 255, cv2.THRESH_BINARY_INV)\n",
        "    cv2.imwrite(os.path.join(processed_dir, frame), binary)\n",
        "\n",
        "print(\"Preprocessing complete! Processed frames saved in 'processed_frames'\")"
      ]
    },
    {
      "cell_type": "markdown",
      "metadata": {
        "id": "adALlu3piGs5"
      },
      "source": [
        "### **Step 6: Performing OCR on Processed Frames**"
      ]
    },
    {
      "cell_type": "code",
      "execution_count": null,
      "metadata": {
        "id": "O2Wob2wgh4LW"
      },
      "outputs": [],
      "source": [
        "ocr_results = {}\n",
        "for frame in sorted(os.listdir(processed_dir)):\n",
        "    img_path = os.path.join(processed_dir, frame)\n",
        "    text = pytesseract.image_to_string(img_path, config=\"--psm 6\")\n",
        "    ocr_results[frame] = text\n",
        "\n",
        "print(\"✅ OCR complete! Sample output:\")\n",
        "print(ocr_results[list(ocr_results.keys())[0]])"
      ]
    },
    {
      "cell_type": "markdown",
      "metadata": {
        "id": "FeMMFUtmiU59"
      },
      "source": [
        "### **Step 7: Save Extracted Code from All Frames**"
      ]
    },
    {
      "cell_type": "code",
      "execution_count": null,
      "metadata": {
        "id": "L_WYlJQLiNea"
      },
      "outputs": [],
      "source": [
        "with open(\"extracted_code.txt\", \"w\") as f:\n",
        "    for frame, code in ocr_results.items():\n",
        "        f.write(f\"### {frame} ###\\n{code}\\n\\n\")\n",
        "\n",
        "files.download(\"extracted_code.txt\")"
      ]
    },
    {
      "cell_type": "markdown",
      "metadata": {
        "id": "TqRjh7o6i_jF"
      },
      "source": [
        "### **Step 8: Clean and Deduplicate Extracted Code**"
      ]
    },
    {
      "cell_type": "code",
      "execution_count": null,
      "metadata": {
        "id": "HRs_-6Yxi6Us"
      },
      "outputs": [],
      "source": [
        "def clean_and_deduplicate_code(code_dict):\n",
        "    all_lines = []\n",
        "    for frame, code in code_dict.items():\n",
        "        lines = code.split('\\n')\n",
        "        cleaned_lines = [line for line in lines if line.strip() and not line.isspace()]\n",
        "        all_lines.extend(cleaned_lines)\n",
        "\n",
        "    # Remove near-duplicates using difflib\n",
        "    unique_lines = []\n",
        "    for line in all_lines:\n",
        "        if not any(difflib.SequenceMatcher(None, line, existing).ratio() > 0.9 for existing in unique_lines):\n",
        "            unique_lines.append(line)\n",
        "\n",
        "    formatted_code = \"\\n\".join(unique_lines)\n",
        "    return autopep8.fix_code(formatted_code)\n",
        "\n",
        "final_clean_code = clean_and_deduplicate_code(ocr_results)\n",
        "\n",
        "with open(\"final_clean_code.py\", \"w\") as f:\n",
        "    f.write(final_clean_code)\n",
        "\n",
        "files.download(\"final_clean_code.py\")\n",
        "print(\"Final cleaned and deduplicated code saved!\")"
      ]
    },
    {
      "cell_type": "markdown",
      "metadata": {
        "id": "zCuypzKNjty9"
      },
      "source": [
        "### **Step 9: Generate a PDF Report**"
      ]
    },
    {
      "cell_type": "code",
      "execution_count": null,
      "metadata": {
        "id": "ZdnUuoqljqGX"
      },
      "outputs": [],
      "source": [
        "pdf_path = \"coding_analysis.pdf\"\n",
        "c = canvas.Canvas(pdf_path, pagesize=letter)\n",
        "c.setFont(\"Helvetica\", 10)\n",
        "\n",
        "y = 750\n",
        "c.drawString(30, y, \"📊 Coding Analysis Report\")\n",
        "y -= 20\n",
        "c.drawString(30, y, \"Extracted Code:\")\n",
        "y -= 20\n",
        "\n",
        "for frame, code in ocr_results.items():\n",
        "    if y < 50:\n",
        "        c.showPage()\n",
        "        c.setFont(\"Helvetica\", 10)\n",
        "        y = 750\n",
        "    c.drawString(30, y, f\"Frame: {frame}\")\n",
        "    y -= 15\n",
        "    c.drawString(30, y, code[:200] + \"...\")\n",
        "    y -= 30\n",
        "\n",
        "c.save()\n",
        "files.download(pdf_path)\n",
        "print(\"PDF Report ready for download!\")\n"
      ]
    },
    {
      "cell_type": "markdown",
      "metadata": {
        "id": "b0VovgRkkMlL"
      },
      "source": [
        "### **Step 10: Make Frames Downloadable**"
      ]
    },
    {
      "cell_type": "code",
      "execution_count": null,
      "metadata": {
        "id": "IEi1qCf5kJMm"
      },
      "outputs": [],
      "source": [
        "shutil.make_archive(\"extracted_frames\", \"zip\", output_dir)\n",
        "shutil.make_archive(\"processed_frames\", \"zip\", processed_dir)\n",
        "files.download(\"extracted_frames.zip\")\n",
        "files.download(\"processed_frames.zip\")\n",
        "print(\"All files ready for download!\")"
      ]
    }
  ],
  "metadata": {
    "colab": {
      "provenance": []
    },
    "kernelspec": {
      "display_name": "Python 3",
      "name": "python3"
    },
    "language_info": {
      "name": "python"
    }
  },
  "nbformat": 4,
  "nbformat_minor": 0
}
